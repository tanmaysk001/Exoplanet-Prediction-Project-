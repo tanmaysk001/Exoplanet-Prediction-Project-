{
  "nbformat": 4,
  "nbformat_minor": 0,
  "metadata": {
    "colab": {
      "provenance": [],
      "authorship_tag": "ABX9TyP/5TFeJUEhGmzyxhfpl/qv",
      "include_colab_link": true
    },
    "kernelspec": {
      "name": "python3",
      "display_name": "Python 3"
    },
    "language_info": {
      "name": "python"
    }
  },
  "cells": [
    {
      "cell_type": "markdown",
      "metadata": {
        "id": "view-in-github",
        "colab_type": "text"
      },
      "source": [
        "<a href=\"https://colab.research.google.com/github/tanmaysk001/Exoplanet-Prediction-Project-/blob/main/Habitability_test.ipynb\" target=\"_parent\"><img src=\"https://colab.research.google.com/assets/colab-badge.svg\" alt=\"Open In Colab\"/></a>"
      ]
    },
    {
      "cell_type": "code",
      "metadata": {
        "id": "0A2GE6ZMYfJE"
      },
      "source": [
        "#The Basics\n",
        "import matplotlib.pyplot as plt\n",
        "import pandas as pd\n",
        "import re\n",
        "import numpy as np\n",
        "\n",
        "#Machine Learning models\n",
        "from sklearn.model_selection import train_test_split\n",
        "from sklearn.naive_bayes import GaussianNB\n",
        "from sklearn.tree import DecisionTreeClassifier\n",
        "from sklearn.linear_model import LogisticRegression\n",
        "from sklearn.svm import SVC\n",
        "from sklearn.model_selection import cross_val_score"
      ],
      "execution_count": null,
      "outputs": []
    },
    {
      "cell_type": "code",
      "metadata": {
        "id": "PPwDvxmmYlUO"
      },
      "source": [
        "data = pd.read_csv(\"https://github.com/ChristopherBacon/Habitable-Exoplanets/blob/main/Filteredexoplanets2.csv?raw=true\", sep=',', engine='python')"
      ],
      "execution_count": null,
      "outputs": []
    },
    {
      "cell_type": "code",
      "metadata": {
        "colab": {
          "base_uri": "https://localhost:8080/"
        },
        "id": "xYaEpxB8Yyes",
        "outputId": "4280fb83-aac1-407e-df56-b30d571b17a7"
      },
      "source": [
        "data.columns"
      ],
      "execution_count": null,
      "outputs": [
        {
          "output_type": "execute_result",
          "data": {
            "text/plain": [
              "Index(['pl_name', 'hostname', 'default_flag', 'sy_snum', 'sy_pnum', 'soltype',\n",
              "       'pl_controv_flag', 'pl_orbper', 'pl_orbsmax', 'pl_radj', 'pl_masse',\n",
              "       'pl_orbeccen', 'pl_insol', 'pl_eqt', 'ttv_flag', 'st_teff', 'st_rad',\n",
              "       'st_mass', 'st_met', 'st_metratio', 'st_logg', 'sy_refname', 'rastr',\n",
              "       'ra', 'decstr', 'dec', 'sy_dist', 'sy_vmag', 'sy_kmag', 'sy_gaiamag'],\n",
              "      dtype='object')"
            ]
          },
          "metadata": {
            "tags": []
          },
          "execution_count": 3
        }
      ]
    },
    {
      "cell_type": "code",
      "metadata": {
        "id": "9aFftfm0Y7v2"
      },
      "source": [
        "new_headings = {'pl_name': 'Planet Name', 'hostname': 'Host Name', 'default_flag': 'Default Parameter Set',\n",
        "                'sy_snum': 'Number of Stars', 'sy_pnum': 'Number of Planets', 'soltype': 'Solution Type',\n",
        "                'pl_controv_flag': 'Controversial Flag', 'pl_orbper': 'Orbital Period [days]',\n",
        "                'pl_orbsmax': 'Orbit Semi-Major Axis [AU]', 'pl_radj': 'Planet Radius [Jupiter Radius]',\n",
        "                'pl_masse': 'Planet Mass [Earth Mass]', 'pl_orbeccen': 'Eccentricity',\n",
        "                'pl_insol': 'Insolation Flux [Earth Flux]', 'pl_eqt': 'Equilibrium Temperature [K]',\n",
        "                'ttv_flag': 'Data show Transit Timing Variations', 'st_teff': 'Stellar Effective Temperature [K]',\n",
        "                'st_rad': 'Stellar Radius [Solar Radius]', 'st_mass': 'Stellar Mass [Solar mass]',\n",
        "                'st_met': 'Stellar Metallicity [dex]', 'st_metratio': 'Stellar Metallicity Ratio',\n",
        "                'st_logg': 'Stellar Surface Gravity [log10(cm/s**2)]', 'sy_refname': 'System Parameter Reference',\n",
        "                'rastr': 'RA [sexagesimal]', 'ra': 'RA [decimal]', 'decstr': 'Dec [sexagesimal]',\n",
        "                'dec': 'Dec [decimal]', 'sy_dist': 'Distance [pc]', 'sy_vmag': 'V (Johnson) Magnitude',\n",
        "                'sy_kmag': 'Ks (2MASS) Magnitude', 'sy_gaiamag': 'Gaia Magnitude'}\n",
        "\n",
        "#Now rename the column headings\n",
        "data2 = data.rename(columns=new_headings, errors='ignore')"
      ],
      "execution_count": null,
      "outputs": []
    },
    {
      "cell_type": "code",
      "metadata": {
        "colab": {
          "base_uri": "https://localhost:8080/",
          "height": 825
        },
        "id": "Yzsub34QZCAN",
        "outputId": "3c2b784f-e44b-4d5a-eb95-36ef4e20d05f"
      },
      "source": [
        "data2"
      ],
      "execution_count": null,
      "outputs": [
        {
          "output_type": "execute_result",
          "data": {
            "text/html": [
              "<div>\n",
              "<style scoped>\n",
              "    .dataframe tbody tr th:only-of-type {\n",
              "        vertical-align: middle;\n",
              "    }\n",
              "\n",
              "    .dataframe tbody tr th {\n",
              "        vertical-align: top;\n",
              "    }\n",
              "\n",
              "    .dataframe thead th {\n",
              "        text-align: right;\n",
              "    }\n",
              "</style>\n",
              "<table border=\"1\" class=\"dataframe\">\n",
              "  <thead>\n",
              "    <tr style=\"text-align: right;\">\n",
              "      <th></th>\n",
              "      <th>Planet Name</th>\n",
              "      <th>Host Name</th>\n",
              "      <th>Default Parameter Set</th>\n",
              "      <th>Number of Stars</th>\n",
              "      <th>Number of Planets</th>\n",
              "      <th>Solution Type</th>\n",
              "      <th>Controversial Flag</th>\n",
              "      <th>Orbital Period [days]</th>\n",
              "      <th>Orbit Semi-Major Axis [AU]</th>\n",
              "      <th>Planet Radius [Jupiter Radius]</th>\n",
              "      <th>Planet Mass [Earth Mass]</th>\n",
              "      <th>Eccentricity</th>\n",
              "      <th>Insolation Flux [Earth Flux]</th>\n",
              "      <th>Equilibrium Temperature [K]</th>\n",
              "      <th>Data show Transit Timing Variations</th>\n",
              "      <th>Stellar Effective Temperature [K]</th>\n",
              "      <th>Stellar Radius [Solar Radius]</th>\n",
              "      <th>Stellar Mass [Solar mass]</th>\n",
              "      <th>Stellar Metallicity [dex]</th>\n",
              "      <th>Stellar Metallicity Ratio</th>\n",
              "      <th>Stellar Surface Gravity [log10(cm/s**2)]</th>\n",
              "      <th>System Parameter Reference</th>\n",
              "      <th>RA [sexagesimal]</th>\n",
              "      <th>RA [decimal]</th>\n",
              "      <th>Dec [sexagesimal]</th>\n",
              "      <th>Dec [decimal]</th>\n",
              "      <th>Distance [pc]</th>\n",
              "      <th>V (Johnson) Magnitude</th>\n",
              "      <th>Ks (2MASS) Magnitude</th>\n",
              "      <th>Gaia Magnitude</th>\n",
              "    </tr>\n",
              "  </thead>\n",
              "  <tbody>\n",
              "    <tr>\n",
              "      <th>0</th>\n",
              "      <td>11 Com b</td>\n",
              "      <td>11 Com</td>\n",
              "      <td>1</td>\n",
              "      <td>2</td>\n",
              "      <td>1</td>\n",
              "      <td>CONFIRMED</td>\n",
              "      <td>0</td>\n",
              "      <td>326.03000</td>\n",
              "      <td>1.29000</td>\n",
              "      <td>NaN</td>\n",
              "      <td>NaN</td>\n",
              "      <td>0.2310</td>\n",
              "      <td>NaN</td>\n",
              "      <td>NaN</td>\n",
              "      <td>0</td>\n",
              "      <td>4742.0</td>\n",
              "      <td>19.00</td>\n",
              "      <td>2.70</td>\n",
              "      <td>-0.350</td>\n",
              "      <td>[Fe/H]</td>\n",
              "      <td>2.31</td>\n",
              "      <td>&lt;a refstr=STASSUN_ET_AL__2018 href=https://ui....</td>\n",
              "      <td>12h20m42.91s</td>\n",
              "      <td>185.178779</td>\n",
              "      <td>+17d47m35.71s</td>\n",
              "      <td>17.793252</td>\n",
              "      <td>93.1846</td>\n",
              "      <td>4.72307</td>\n",
              "      <td>2.282</td>\n",
              "      <td>4.44038</td>\n",
              "    </tr>\n",
              "    <tr>\n",
              "      <th>1</th>\n",
              "      <td>11 Com b</td>\n",
              "      <td>11 Com</td>\n",
              "      <td>0</td>\n",
              "      <td>2</td>\n",
              "      <td>1</td>\n",
              "      <td>CONFIRMED</td>\n",
              "      <td>0</td>\n",
              "      <td>NaN</td>\n",
              "      <td>1.21000</td>\n",
              "      <td>NaN</td>\n",
              "      <td>NaN</td>\n",
              "      <td>NaN</td>\n",
              "      <td>NaN</td>\n",
              "      <td>NaN</td>\n",
              "      <td>0</td>\n",
              "      <td>NaN</td>\n",
              "      <td>NaN</td>\n",
              "      <td>2.60</td>\n",
              "      <td>NaN</td>\n",
              "      <td>NaN</td>\n",
              "      <td>NaN</td>\n",
              "      <td>&lt;a refstr=STASSUN_ET_AL__2018 href=https://ui....</td>\n",
              "      <td>12h20m42.91s</td>\n",
              "      <td>185.178779</td>\n",
              "      <td>+17d47m35.71s</td>\n",
              "      <td>17.793252</td>\n",
              "      <td>93.1846</td>\n",
              "      <td>4.72307</td>\n",
              "      <td>2.282</td>\n",
              "      <td>4.44038</td>\n",
              "    </tr>\n",
              "    <tr>\n",
              "      <th>2</th>\n",
              "      <td>11 UMi b</td>\n",
              "      <td>11 UMi</td>\n",
              "      <td>1</td>\n",
              "      <td>1</td>\n",
              "      <td>1</td>\n",
              "      <td>CONFIRMED</td>\n",
              "      <td>0</td>\n",
              "      <td>516.21997</td>\n",
              "      <td>1.53000</td>\n",
              "      <td>NaN</td>\n",
              "      <td>NaN</td>\n",
              "      <td>0.0800</td>\n",
              "      <td>NaN</td>\n",
              "      <td>NaN</td>\n",
              "      <td>0</td>\n",
              "      <td>4213.0</td>\n",
              "      <td>29.79</td>\n",
              "      <td>2.78</td>\n",
              "      <td>-0.020</td>\n",
              "      <td>[Fe/H]</td>\n",
              "      <td>1.93</td>\n",
              "      <td>&lt;a refstr=STASSUN_ET_AL__2018 href=https://ui....</td>\n",
              "      <td>15h17m05.90s</td>\n",
              "      <td>229.274595</td>\n",
              "      <td>+71d49m26.19s</td>\n",
              "      <td>71.823943</td>\n",
              "      <td>125.3210</td>\n",
              "      <td>5.01300</td>\n",
              "      <td>1.939</td>\n",
              "      <td>4.56216</td>\n",
              "    </tr>\n",
              "    <tr>\n",
              "      <th>3</th>\n",
              "      <td>11 UMi b</td>\n",
              "      <td>11 UMi</td>\n",
              "      <td>0</td>\n",
              "      <td>1</td>\n",
              "      <td>1</td>\n",
              "      <td>CONFIRMED</td>\n",
              "      <td>0</td>\n",
              "      <td>NaN</td>\n",
              "      <td>1.51000</td>\n",
              "      <td>NaN</td>\n",
              "      <td>NaN</td>\n",
              "      <td>NaN</td>\n",
              "      <td>NaN</td>\n",
              "      <td>NaN</td>\n",
              "      <td>0</td>\n",
              "      <td>NaN</td>\n",
              "      <td>NaN</td>\n",
              "      <td>1.70</td>\n",
              "      <td>NaN</td>\n",
              "      <td>NaN</td>\n",
              "      <td>NaN</td>\n",
              "      <td>&lt;a refstr=STASSUN_ET_AL__2018 href=https://ui....</td>\n",
              "      <td>15h17m05.90s</td>\n",
              "      <td>229.274595</td>\n",
              "      <td>+71d49m26.19s</td>\n",
              "      <td>71.823943</td>\n",
              "      <td>125.3210</td>\n",
              "      <td>5.01300</td>\n",
              "      <td>1.939</td>\n",
              "      <td>4.56216</td>\n",
              "    </tr>\n",
              "    <tr>\n",
              "      <th>4</th>\n",
              "      <td>11 UMi b</td>\n",
              "      <td>11 UMi</td>\n",
              "      <td>0</td>\n",
              "      <td>1</td>\n",
              "      <td>1</td>\n",
              "      <td>CONFIRMED</td>\n",
              "      <td>0</td>\n",
              "      <td>516.22000</td>\n",
              "      <td>1.54000</td>\n",
              "      <td>NaN</td>\n",
              "      <td>NaN</td>\n",
              "      <td>0.0800</td>\n",
              "      <td>NaN</td>\n",
              "      <td>NaN</td>\n",
              "      <td>0</td>\n",
              "      <td>4340.0</td>\n",
              "      <td>24.08</td>\n",
              "      <td>1.80</td>\n",
              "      <td>0.040</td>\n",
              "      <td>[Fe/H]</td>\n",
              "      <td>1.60</td>\n",
              "      <td>&lt;a refstr=STASSUN_ET_AL__2018 href=https://ui....</td>\n",
              "      <td>15h17m05.90s</td>\n",
              "      <td>229.274595</td>\n",
              "      <td>+71d49m26.19s</td>\n",
              "      <td>71.823943</td>\n",
              "      <td>125.3210</td>\n",
              "      <td>5.01300</td>\n",
              "      <td>1.939</td>\n",
              "      <td>4.56216</td>\n",
              "    </tr>\n",
              "    <tr>\n",
              "      <th>...</th>\n",
              "      <td>...</td>\n",
              "      <td>...</td>\n",
              "      <td>...</td>\n",
              "      <td>...</td>\n",
              "      <td>...</td>\n",
              "      <td>...</td>\n",
              "      <td>...</td>\n",
              "      <td>...</td>\n",
              "      <td>...</td>\n",
              "      <td>...</td>\n",
              "      <td>...</td>\n",
              "      <td>...</td>\n",
              "      <td>...</td>\n",
              "      <td>...</td>\n",
              "      <td>...</td>\n",
              "      <td>...</td>\n",
              "      <td>...</td>\n",
              "      <td>...</td>\n",
              "      <td>...</td>\n",
              "      <td>...</td>\n",
              "      <td>...</td>\n",
              "      <td>...</td>\n",
              "      <td>...</td>\n",
              "      <td>...</td>\n",
              "      <td>...</td>\n",
              "      <td>...</td>\n",
              "      <td>...</td>\n",
              "      <td>...</td>\n",
              "      <td>...</td>\n",
              "      <td>...</td>\n",
              "    </tr>\n",
              "    <tr>\n",
              "      <th>26225</th>\n",
              "      <td>ups And d</td>\n",
              "      <td>ups And</td>\n",
              "      <td>0</td>\n",
              "      <td>2</td>\n",
              "      <td>3</td>\n",
              "      <td>CONFIRMED</td>\n",
              "      <td>0</td>\n",
              "      <td>1274.60000</td>\n",
              "      <td>2.51000</td>\n",
              "      <td>NaN</td>\n",
              "      <td>NaN</td>\n",
              "      <td>0.2420</td>\n",
              "      <td>NaN</td>\n",
              "      <td>NaN</td>\n",
              "      <td>0</td>\n",
              "      <td>NaN</td>\n",
              "      <td>NaN</td>\n",
              "      <td>NaN</td>\n",
              "      <td>NaN</td>\n",
              "      <td>NaN</td>\n",
              "      <td>NaN</td>\n",
              "      <td>&lt;a refstr=STASSUN_ET_AL__2018 href=https://ui....</td>\n",
              "      <td>01h36m47.60s</td>\n",
              "      <td>24.198353</td>\n",
              "      <td>+41d24m13.73s</td>\n",
              "      <td>41.403815</td>\n",
              "      <td>13.4054</td>\n",
              "      <td>4.09565</td>\n",
              "      <td>2.859</td>\n",
              "      <td>3.98687</td>\n",
              "    </tr>\n",
              "    <tr>\n",
              "      <th>26226</th>\n",
              "      <td>ups And d</td>\n",
              "      <td>ups And</td>\n",
              "      <td>1</td>\n",
              "      <td>2</td>\n",
              "      <td>3</td>\n",
              "      <td>CONFIRMED</td>\n",
              "      <td>0</td>\n",
              "      <td>1276.46000</td>\n",
              "      <td>2.51329</td>\n",
              "      <td>NaN</td>\n",
              "      <td>NaN</td>\n",
              "      <td>0.2987</td>\n",
              "      <td>NaN</td>\n",
              "      <td>NaN</td>\n",
              "      <td>0</td>\n",
              "      <td>NaN</td>\n",
              "      <td>1.56</td>\n",
              "      <td>1.30</td>\n",
              "      <td>NaN</td>\n",
              "      <td>NaN</td>\n",
              "      <td>NaN</td>\n",
              "      <td>&lt;a refstr=STASSUN_ET_AL__2018 href=https://ui....</td>\n",
              "      <td>01h36m47.60s</td>\n",
              "      <td>24.198353</td>\n",
              "      <td>+41d24m13.73s</td>\n",
              "      <td>41.403815</td>\n",
              "      <td>13.4054</td>\n",
              "      <td>4.09565</td>\n",
              "      <td>2.859</td>\n",
              "      <td>3.98687</td>\n",
              "    </tr>\n",
              "    <tr>\n",
              "      <th>26227</th>\n",
              "      <td>ups And d</td>\n",
              "      <td>ups And</td>\n",
              "      <td>0</td>\n",
              "      <td>2</td>\n",
              "      <td>3</td>\n",
              "      <td>CONFIRMED</td>\n",
              "      <td>0</td>\n",
              "      <td>1319.00000</td>\n",
              "      <td>2.57000</td>\n",
              "      <td>NaN</td>\n",
              "      <td>NaN</td>\n",
              "      <td>0.2690</td>\n",
              "      <td>NaN</td>\n",
              "      <td>NaN</td>\n",
              "      <td>0</td>\n",
              "      <td>NaN</td>\n",
              "      <td>NaN</td>\n",
              "      <td>NaN</td>\n",
              "      <td>NaN</td>\n",
              "      <td>NaN</td>\n",
              "      <td>NaN</td>\n",
              "      <td>&lt;a refstr=STASSUN_ET_AL__2018 href=https://ui....</td>\n",
              "      <td>01h36m47.60s</td>\n",
              "      <td>24.198353</td>\n",
              "      <td>+41d24m13.73s</td>\n",
              "      <td>41.403815</td>\n",
              "      <td>13.4054</td>\n",
              "      <td>4.09565</td>\n",
              "      <td>2.859</td>\n",
              "      <td>3.98687</td>\n",
              "    </tr>\n",
              "    <tr>\n",
              "      <th>26228</th>\n",
              "      <td>xi Aql b</td>\n",
              "      <td>xi Aql</td>\n",
              "      <td>1</td>\n",
              "      <td>1</td>\n",
              "      <td>1</td>\n",
              "      <td>CONFIRMED</td>\n",
              "      <td>0</td>\n",
              "      <td>136.75000</td>\n",
              "      <td>0.68000</td>\n",
              "      <td>NaN</td>\n",
              "      <td>NaN</td>\n",
              "      <td>0.0000</td>\n",
              "      <td>NaN</td>\n",
              "      <td>NaN</td>\n",
              "      <td>0</td>\n",
              "      <td>4780.0</td>\n",
              "      <td>12.00</td>\n",
              "      <td>2.20</td>\n",
              "      <td>-0.205</td>\n",
              "      <td>[Fe/H]</td>\n",
              "      <td>2.66</td>\n",
              "      <td>&lt;a refstr=STASSUN_ET_AL__2018 href=https://ui....</td>\n",
              "      <td>19h54m14.99s</td>\n",
              "      <td>298.562449</td>\n",
              "      <td>+08d27m39.98s</td>\n",
              "      <td>8.461105</td>\n",
              "      <td>56.1858</td>\n",
              "      <td>4.70964</td>\n",
              "      <td>2.171</td>\n",
              "      <td>4.42501</td>\n",
              "    </tr>\n",
              "    <tr>\n",
              "      <th>26229</th>\n",
              "      <td>xi Aql b</td>\n",
              "      <td>xi Aql</td>\n",
              "      <td>0</td>\n",
              "      <td>1</td>\n",
              "      <td>1</td>\n",
              "      <td>CONFIRMED</td>\n",
              "      <td>0</td>\n",
              "      <td>NaN</td>\n",
              "      <td>0.58000</td>\n",
              "      <td>NaN</td>\n",
              "      <td>NaN</td>\n",
              "      <td>NaN</td>\n",
              "      <td>NaN</td>\n",
              "      <td>NaN</td>\n",
              "      <td>0</td>\n",
              "      <td>NaN</td>\n",
              "      <td>NaN</td>\n",
              "      <td>1.40</td>\n",
              "      <td>NaN</td>\n",
              "      <td>NaN</td>\n",
              "      <td>NaN</td>\n",
              "      <td>&lt;a refstr=STASSUN_ET_AL__2018 href=https://ui....</td>\n",
              "      <td>19h54m14.99s</td>\n",
              "      <td>298.562449</td>\n",
              "      <td>+08d27m39.98s</td>\n",
              "      <td>8.461105</td>\n",
              "      <td>56.1858</td>\n",
              "      <td>4.70964</td>\n",
              "      <td>2.171</td>\n",
              "      <td>4.42501</td>\n",
              "    </tr>\n",
              "  </tbody>\n",
              "</table>\n",
              "<p>26230 rows × 30 columns</p>\n",
              "</div>"
            ],
            "text/plain": [
              "      Planet Name Host Name  ...  Ks (2MASS) Magnitude  Gaia Magnitude\n",
              "0        11 Com b    11 Com  ...                 2.282         4.44038\n",
              "1        11 Com b    11 Com  ...                 2.282         4.44038\n",
              "2        11 UMi b    11 UMi  ...                 1.939         4.56216\n",
              "3        11 UMi b    11 UMi  ...                 1.939         4.56216\n",
              "4        11 UMi b    11 UMi  ...                 1.939         4.56216\n",
              "...           ...       ...  ...                   ...             ...\n",
              "26225   ups And d   ups And  ...                 2.859         3.98687\n",
              "26226   ups And d   ups And  ...                 2.859         3.98687\n",
              "26227   ups And d   ups And  ...                 2.859         3.98687\n",
              "26228    xi Aql b    xi Aql  ...                 2.171         4.42501\n",
              "26229    xi Aql b    xi Aql  ...                 2.171         4.42501\n",
              "\n",
              "[26230 rows x 30 columns]"
            ]
          },
          "metadata": {
            "tags": []
          },
          "execution_count": 5
        }
      ]
    },
    {
      "cell_type": "code",
      "metadata": {
        "colab": {
          "base_uri": "https://localhost:8080/"
        },
        "id": "UNKaWQJ2ZELq",
        "outputId": "15d0513a-ef3f-4b82-a6a2-874de018247d"
      },
      "source": [
        "#Value counts for the enrties, looks like we can drop this column\n",
        "data2['Solution Type'].value_counts()"
      ],
      "execution_count": null,
      "outputs": [
        {
          "output_type": "execute_result",
          "data": {
            "text/plain": [
              "CONFIRMED                        14064\n",
              "CANDIDATE_KOI_q1_q16_koi          2298\n",
              "CANDIDATE_KOI_q1_q17_dr25_koi     2291\n",
              "CANDIDATE_KOI_q1_q17_dr24_koi     2281\n",
              "CANDIDATE_KOI_q1_q12_koi          2263\n",
              "CANDIDATE_KOI_q1_q8_koi           1992\n",
              "CANDIDATE_K2                      1004\n",
              "CANDIDATE_TOI                       37\n",
              "Name: Solution Type, dtype: int64"
            ]
          },
          "metadata": {
            "tags": []
          },
          "execution_count": 7
        }
      ]
    },
    {
      "cell_type": "code",
      "metadata": {
        "id": "CMliA1f0ZTaV"
      },
      "source": [
        "#Check value counts in any quesitonable columns and remove\n",
        "data2 = data2.drop(['Solution Type', 'System Parameter Reference'],axis=1)"
      ],
      "execution_count": null,
      "outputs": []
    },
    {
      "cell_type": "code",
      "metadata": {
        "colab": {
          "base_uri": "https://localhost:8080/"
        },
        "id": "PQpruGpOZdlD",
        "outputId": "662f6314-c08b-43ca-efde-d45088344090"
      },
      "source": [
        "#Check to see how many entries are controversial data\n",
        "data2['Controversial Flag'].value_counts()"
      ],
      "execution_count": null,
      "outputs": [
        {
          "output_type": "execute_result",
          "data": {
            "text/plain": [
              "0    26194\n",
              "1       36\n",
              "Name: Controversial Flag, dtype: int64"
            ]
          },
          "metadata": {
            "tags": []
          },
          "execution_count": 10
        }
      ]
    },
    {
      "cell_type": "code",
      "metadata": {
        "id": "o9k0hkLVZhy8"
      },
      "source": [
        "#Select only the data with no controversial flags\n",
        "data2 = data2.loc[data2['Controversial Flag'] == False,]\n",
        "\n",
        "#We can now drop the controversial column\n",
        "data2 = data2.drop('Controversial Flag', axis=1)"
      ],
      "execution_count": null,
      "outputs": []
    },
    {
      "cell_type": "code",
      "metadata": {
        "colab": {
          "base_uri": "https://localhost:8080/"
        },
        "id": "sChlhS75ZnRm",
        "outputId": "a361c65a-1621-416d-b845-34de38678836"
      },
      "source": [
        "data2.columns"
      ],
      "execution_count": null,
      "outputs": [
        {
          "output_type": "execute_result",
          "data": {
            "text/plain": [
              "Index(['Planet Name', 'Host Name', 'Default Parameter Set', 'Number of Stars',\n",
              "       'Number of Planets', 'Orbital Period [days]',\n",
              "       'Orbit Semi-Major Axis [AU]', 'Planet Radius [Jupiter Radius]',\n",
              "       'Planet Mass [Earth Mass]', 'Eccentricity',\n",
              "       'Insolation Flux [Earth Flux]', 'Equilibrium Temperature [K]',\n",
              "       'Data show Transit Timing Variations',\n",
              "       'Stellar Effective Temperature [K]', 'Stellar Radius [Solar Radius]',\n",
              "       'Stellar Mass [Solar mass]', 'Stellar Metallicity [dex]',\n",
              "       'Stellar Metallicity Ratio', 'Stellar Surface Gravity [log10(cm/s**2)]',\n",
              "       'RA [sexagesimal]', 'RA [decimal]', 'Dec [sexagesimal]',\n",
              "       'Dec [decimal]', 'Distance [pc]', 'V (Johnson) Magnitude',\n",
              "       'Ks (2MASS) Magnitude', 'Gaia Magnitude'],\n",
              "      dtype='object')"
            ]
          },
          "metadata": {
            "tags": []
          },
          "execution_count": 12
        }
      ]
    },
    {
      "cell_type": "code",
      "metadata": {
        "colab": {
          "base_uri": "https://localhost:8080/"
        },
        "id": "9oVOdEePZtUE",
        "outputId": "6c5165b3-1f38-43a1-9f92-42cbe2393e15"
      },
      "source": [
        "#As we can see there are a number of planets without estimated masses.\n",
        "#Lets fill the NaN values with the median as there are some large outliers\n",
        "data2['Planet Mass [Earth Mass]'].value_counts(dropna=False)"
      ],
      "execution_count": null,
      "outputs": [
        {
          "output_type": "execute_result",
          "data": {
            "text/plain": [
              "NaN         23882\n",
              "21.000         19\n",
              "181.000        11\n",
              "180.000        11\n",
              "270.000        10\n",
              "            ...  \n",
              "3210.000        1\n",
              "143.653         1\n",
              "11.820          1\n",
              "607.000         1\n",
              "381.100         1\n",
              "Name: Planet Mass [Earth Mass], Length: 1487, dtype: int64"
            ]
          },
          "metadata": {
            "tags": []
          },
          "execution_count": 13
        }
      ]
    },
    {
      "cell_type": "code",
      "metadata": {
        "colab": {
          "base_uri": "https://localhost:8080/"
        },
        "id": "7FWpcEw6Z3Au",
        "outputId": "fecaea5f-93e4-42a1-dfce-2b54a971dbb7"
      },
      "source": [
        "#We can see here that our median mass & radius for planets is:\n",
        "print(data2['Planet Mass [Earth Mass]'].median())\n",
        "print(data2['Planet Radius [Jupiter Radius]'].median())"
      ],
      "execution_count": null,
      "outputs": [
        {
          "output_type": "stream",
          "text": [
            "212.3095\n",
            "0.217\n"
          ],
          "name": "stdout"
        }
      ]
    },
    {
      "cell_type": "code",
      "metadata": {
        "id": "hcU23B9PZ_cq"
      },
      "source": [
        "#Let's now fill the mass & radius of the planet with the median mass & radius\n",
        "data3 = data2.fillna(data2.median())"
      ],
      "execution_count": null,
      "outputs": []
    },
    {
      "cell_type": "code",
      "metadata": {
        "colab": {
          "base_uri": "https://localhost:8080/"
        },
        "id": "Qlp0Ii-BaDPR",
        "outputId": "6571ba03-6225-44d9-96f3-372db95025c3"
      },
      "source": [
        "data3['Stellar Metallicity Ratio'].value_counts()"
      ],
      "execution_count": null,
      "outputs": [
        {
          "output_type": "execute_result",
          "data": {
            "text/plain": [
              "[Fe/H]    14337\n",
              "[M/H]      2531\n",
              "[m/H]        34\n",
              "[Me/H]        4\n",
              "Name: Stellar Metallicity Ratio, dtype: int64"
            ]
          },
          "metadata": {
            "tags": []
          },
          "execution_count": 16
        }
      ]
    },
    {
      "cell_type": "code",
      "metadata": {
        "colab": {
          "base_uri": "https://localhost:8080/"
        },
        "id": "36Dm8vbTaFE2",
        "outputId": "36b33419-f620-44d9-a25e-8e2f5fa5be14"
      },
      "source": [
        "#This is more tricky because we want to maintain the ratio of these values,\n",
        "#and this does not allow us a median value.\n",
        "data3['Stellar Metallicity Ratio'].value_counts(normalize=True)"
      ],
      "execution_count": null,
      "outputs": [
        {
          "output_type": "execute_result",
          "data": {
            "text/plain": [
              "[Fe/H]    0.848042\n",
              "[M/H]     0.149710\n",
              "[m/H]     0.002011\n",
              "[Me/H]    0.000237\n",
              "Name: Stellar Metallicity Ratio, dtype: float64"
            ]
          },
          "metadata": {
            "tags": []
          },
          "execution_count": 17
        }
      ]
    },
    {
      "cell_type": "code",
      "metadata": {
        "id": "xzDXCZ5waIES"
      },
      "source": [
        "#Now we can fill columns based on the normalised values\n",
        "nans = data3['Stellar Metallicity Ratio'].isna()\n",
        "length = sum(nans)\n",
        "#replace with random probabilities to maintain current ratio\n",
        "replacement = np.random.choice(['[Fe/H]', '[M/H]','[m/H]', '[Me/H]'], length,\n",
        "                               p=[.848042, .149710,.002011,.000237])\n",
        "\n",
        "data3.loc[nans,'Stellar Metallicity Ratio'] = replacement\n",
        "data4 = data3"
      ],
      "execution_count": null,
      "outputs": []
    },
    {
      "cell_type": "code",
      "metadata": {
        "colab": {
          "base_uri": "https://localhost:8080/",
          "height": 801
        },
        "id": "XTaSppZdaP_I",
        "outputId": "487b4086-f663-4072-eb92-d69113d51554"
      },
      "source": [
        "data4.head(14)"
      ],
      "execution_count": null,
      "outputs": [
        {
          "output_type": "execute_result",
          "data": {
            "text/html": [
              "<div>\n",
              "<style scoped>\n",
              "    .dataframe tbody tr th:only-of-type {\n",
              "        vertical-align: middle;\n",
              "    }\n",
              "\n",
              "    .dataframe tbody tr th {\n",
              "        vertical-align: top;\n",
              "    }\n",
              "\n",
              "    .dataframe thead th {\n",
              "        text-align: right;\n",
              "    }\n",
              "</style>\n",
              "<table border=\"1\" class=\"dataframe\">\n",
              "  <thead>\n",
              "    <tr style=\"text-align: right;\">\n",
              "      <th></th>\n",
              "      <th>Planet Name</th>\n",
              "      <th>Host Name</th>\n",
              "      <th>Default Parameter Set</th>\n",
              "      <th>Number of Stars</th>\n",
              "      <th>Number of Planets</th>\n",
              "      <th>Orbital Period [days]</th>\n",
              "      <th>Orbit Semi-Major Axis [AU]</th>\n",
              "      <th>Planet Radius [Jupiter Radius]</th>\n",
              "      <th>Planet Mass [Earth Mass]</th>\n",
              "      <th>Eccentricity</th>\n",
              "      <th>Insolation Flux [Earth Flux]</th>\n",
              "      <th>Equilibrium Temperature [K]</th>\n",
              "      <th>Data show Transit Timing Variations</th>\n",
              "      <th>Stellar Effective Temperature [K]</th>\n",
              "      <th>Stellar Radius [Solar Radius]</th>\n",
              "      <th>Stellar Mass [Solar mass]</th>\n",
              "      <th>Stellar Metallicity [dex]</th>\n",
              "      <th>Stellar Metallicity Ratio</th>\n",
              "      <th>Stellar Surface Gravity [log10(cm/s**2)]</th>\n",
              "      <th>RA [sexagesimal]</th>\n",
              "      <th>RA [decimal]</th>\n",
              "      <th>Dec [sexagesimal]</th>\n",
              "      <th>Dec [decimal]</th>\n",
              "      <th>Distance [pc]</th>\n",
              "      <th>V (Johnson) Magnitude</th>\n",
              "      <th>Ks (2MASS) Magnitude</th>\n",
              "      <th>Gaia Magnitude</th>\n",
              "    </tr>\n",
              "  </thead>\n",
              "  <tbody>\n",
              "    <tr>\n",
              "      <th>0</th>\n",
              "      <td>11 Com b</td>\n",
              "      <td>11 Com</td>\n",
              "      <td>1</td>\n",
              "      <td>2</td>\n",
              "      <td>1</td>\n",
              "      <td>326.030000</td>\n",
              "      <td>1.290</td>\n",
              "      <td>0.217</td>\n",
              "      <td>212.3095</td>\n",
              "      <td>0.231</td>\n",
              "      <td>81.88</td>\n",
              "      <td>789.0</td>\n",
              "      <td>0</td>\n",
              "      <td>4742.0</td>\n",
              "      <td>19.00</td>\n",
              "      <td>2.70</td>\n",
              "      <td>-0.35</td>\n",
              "      <td>[Fe/H]</td>\n",
              "      <td>2.31</td>\n",
              "      <td>12h20m42.91s</td>\n",
              "      <td>185.178779</td>\n",
              "      <td>+17d47m35.71s</td>\n",
              "      <td>17.793252</td>\n",
              "      <td>93.1846</td>\n",
              "      <td>4.72307</td>\n",
              "      <td>2.282</td>\n",
              "      <td>4.44038</td>\n",
              "    </tr>\n",
              "    <tr>\n",
              "      <th>1</th>\n",
              "      <td>11 Com b</td>\n",
              "      <td>11 Com</td>\n",
              "      <td>0</td>\n",
              "      <td>2</td>\n",
              "      <td>1</td>\n",
              "      <td>11.023475</td>\n",
              "      <td>1.210</td>\n",
              "      <td>0.217</td>\n",
              "      <td>212.3095</td>\n",
              "      <td>0.000</td>\n",
              "      <td>81.88</td>\n",
              "      <td>789.0</td>\n",
              "      <td>0</td>\n",
              "      <td>5620.0</td>\n",
              "      <td>0.95</td>\n",
              "      <td>2.60</td>\n",
              "      <td>-0.02</td>\n",
              "      <td>[Fe/H]</td>\n",
              "      <td>4.47</td>\n",
              "      <td>12h20m42.91s</td>\n",
              "      <td>185.178779</td>\n",
              "      <td>+17d47m35.71s</td>\n",
              "      <td>17.793252</td>\n",
              "      <td>93.1846</td>\n",
              "      <td>4.72307</td>\n",
              "      <td>2.282</td>\n",
              "      <td>4.44038</td>\n",
              "    </tr>\n",
              "    <tr>\n",
              "      <th>2</th>\n",
              "      <td>11 UMi b</td>\n",
              "      <td>11 UMi</td>\n",
              "      <td>1</td>\n",
              "      <td>1</td>\n",
              "      <td>1</td>\n",
              "      <td>516.219970</td>\n",
              "      <td>1.530</td>\n",
              "      <td>0.217</td>\n",
              "      <td>212.3095</td>\n",
              "      <td>0.080</td>\n",
              "      <td>81.88</td>\n",
              "      <td>789.0</td>\n",
              "      <td>0</td>\n",
              "      <td>4213.0</td>\n",
              "      <td>29.79</td>\n",
              "      <td>2.78</td>\n",
              "      <td>-0.02</td>\n",
              "      <td>[Fe/H]</td>\n",
              "      <td>1.93</td>\n",
              "      <td>15h17m05.90s</td>\n",
              "      <td>229.274595</td>\n",
              "      <td>+71d49m26.19s</td>\n",
              "      <td>71.823943</td>\n",
              "      <td>125.3210</td>\n",
              "      <td>5.01300</td>\n",
              "      <td>1.939</td>\n",
              "      <td>4.56216</td>\n",
              "    </tr>\n",
              "    <tr>\n",
              "      <th>3</th>\n",
              "      <td>11 UMi b</td>\n",
              "      <td>11 UMi</td>\n",
              "      <td>0</td>\n",
              "      <td>1</td>\n",
              "      <td>1</td>\n",
              "      <td>11.023475</td>\n",
              "      <td>1.510</td>\n",
              "      <td>0.217</td>\n",
              "      <td>212.3095</td>\n",
              "      <td>0.000</td>\n",
              "      <td>81.88</td>\n",
              "      <td>789.0</td>\n",
              "      <td>0</td>\n",
              "      <td>5620.0</td>\n",
              "      <td>0.95</td>\n",
              "      <td>1.70</td>\n",
              "      <td>-0.02</td>\n",
              "      <td>[M/H]</td>\n",
              "      <td>4.47</td>\n",
              "      <td>15h17m05.90s</td>\n",
              "      <td>229.274595</td>\n",
              "      <td>+71d49m26.19s</td>\n",
              "      <td>71.823943</td>\n",
              "      <td>125.3210</td>\n",
              "      <td>5.01300</td>\n",
              "      <td>1.939</td>\n",
              "      <td>4.56216</td>\n",
              "    </tr>\n",
              "    <tr>\n",
              "      <th>4</th>\n",
              "      <td>11 UMi b</td>\n",
              "      <td>11 UMi</td>\n",
              "      <td>0</td>\n",
              "      <td>1</td>\n",
              "      <td>1</td>\n",
              "      <td>516.220000</td>\n",
              "      <td>1.540</td>\n",
              "      <td>0.217</td>\n",
              "      <td>212.3095</td>\n",
              "      <td>0.080</td>\n",
              "      <td>81.88</td>\n",
              "      <td>789.0</td>\n",
              "      <td>0</td>\n",
              "      <td>4340.0</td>\n",
              "      <td>24.08</td>\n",
              "      <td>1.80</td>\n",
              "      <td>0.04</td>\n",
              "      <td>[Fe/H]</td>\n",
              "      <td>1.60</td>\n",
              "      <td>15h17m05.90s</td>\n",
              "      <td>229.274595</td>\n",
              "      <td>+71d49m26.19s</td>\n",
              "      <td>71.823943</td>\n",
              "      <td>125.3210</td>\n",
              "      <td>5.01300</td>\n",
              "      <td>1.939</td>\n",
              "      <td>4.56216</td>\n",
              "    </tr>\n",
              "    <tr>\n",
              "      <th>5</th>\n",
              "      <td>14 And b</td>\n",
              "      <td>14 And</td>\n",
              "      <td>0</td>\n",
              "      <td>1</td>\n",
              "      <td>1</td>\n",
              "      <td>11.023475</td>\n",
              "      <td>0.680</td>\n",
              "      <td>0.217</td>\n",
              "      <td>212.3095</td>\n",
              "      <td>0.000</td>\n",
              "      <td>81.88</td>\n",
              "      <td>789.0</td>\n",
              "      <td>0</td>\n",
              "      <td>5620.0</td>\n",
              "      <td>0.95</td>\n",
              "      <td>1.20</td>\n",
              "      <td>-0.02</td>\n",
              "      <td>[Fe/H]</td>\n",
              "      <td>4.47</td>\n",
              "      <td>23h31m17.80s</td>\n",
              "      <td>352.824150</td>\n",
              "      <td>+39d14m09.01s</td>\n",
              "      <td>39.235837</td>\n",
              "      <td>75.4392</td>\n",
              "      <td>5.23133</td>\n",
              "      <td>2.331</td>\n",
              "      <td>4.91781</td>\n",
              "    </tr>\n",
              "    <tr>\n",
              "      <th>6</th>\n",
              "      <td>14 And b</td>\n",
              "      <td>14 And</td>\n",
              "      <td>1</td>\n",
              "      <td>1</td>\n",
              "      <td>1</td>\n",
              "      <td>185.840000</td>\n",
              "      <td>0.830</td>\n",
              "      <td>0.217</td>\n",
              "      <td>212.3095</td>\n",
              "      <td>0.000</td>\n",
              "      <td>81.88</td>\n",
              "      <td>789.0</td>\n",
              "      <td>0</td>\n",
              "      <td>4813.0</td>\n",
              "      <td>11.00</td>\n",
              "      <td>2.20</td>\n",
              "      <td>-0.24</td>\n",
              "      <td>[Fe/H]</td>\n",
              "      <td>2.63</td>\n",
              "      <td>23h31m17.80s</td>\n",
              "      <td>352.824150</td>\n",
              "      <td>+39d14m09.01s</td>\n",
              "      <td>39.235837</td>\n",
              "      <td>75.4392</td>\n",
              "      <td>5.23133</td>\n",
              "      <td>2.331</td>\n",
              "      <td>4.91781</td>\n",
              "    </tr>\n",
              "    <tr>\n",
              "      <th>7</th>\n",
              "      <td>14 Her b</td>\n",
              "      <td>14 Her</td>\n",
              "      <td>0</td>\n",
              "      <td>1</td>\n",
              "      <td>1</td>\n",
              "      <td>1773.400000</td>\n",
              "      <td>2.770</td>\n",
              "      <td>0.217</td>\n",
              "      <td>212.3095</td>\n",
              "      <td>0.369</td>\n",
              "      <td>81.88</td>\n",
              "      <td>789.0</td>\n",
              "      <td>0</td>\n",
              "      <td>5620.0</td>\n",
              "      <td>0.95</td>\n",
              "      <td>0.96</td>\n",
              "      <td>-0.02</td>\n",
              "      <td>[Fe/H]</td>\n",
              "      <td>4.47</td>\n",
              "      <td>16h10m24.50s</td>\n",
              "      <td>242.602101</td>\n",
              "      <td>+43d48m58.90s</td>\n",
              "      <td>43.816362</td>\n",
              "      <td>17.9323</td>\n",
              "      <td>6.61935</td>\n",
              "      <td>4.714</td>\n",
              "      <td>6.38300</td>\n",
              "    </tr>\n",
              "    <tr>\n",
              "      <th>8</th>\n",
              "      <td>14 Her b</td>\n",
              "      <td>14 Her</td>\n",
              "      <td>0</td>\n",
              "      <td>1</td>\n",
              "      <td>1</td>\n",
              "      <td>1796.400000</td>\n",
              "      <td>2.800</td>\n",
              "      <td>0.217</td>\n",
              "      <td>212.3095</td>\n",
              "      <td>0.338</td>\n",
              "      <td>81.88</td>\n",
              "      <td>789.0</td>\n",
              "      <td>0</td>\n",
              "      <td>5255.0</td>\n",
              "      <td>0.95</td>\n",
              "      <td>0.90</td>\n",
              "      <td>0.51</td>\n",
              "      <td>[Fe/H]</td>\n",
              "      <td>4.40</td>\n",
              "      <td>16h10m24.50s</td>\n",
              "      <td>242.602101</td>\n",
              "      <td>+43d48m58.90s</td>\n",
              "      <td>43.816362</td>\n",
              "      <td>17.9323</td>\n",
              "      <td>6.61935</td>\n",
              "      <td>4.714</td>\n",
              "      <td>6.38300</td>\n",
              "    </tr>\n",
              "    <tr>\n",
              "      <th>9</th>\n",
              "      <td>14 Her b</td>\n",
              "      <td>14 Her</td>\n",
              "      <td>0</td>\n",
              "      <td>1</td>\n",
              "      <td>1</td>\n",
              "      <td>1724.000000</td>\n",
              "      <td>2.820</td>\n",
              "      <td>0.217</td>\n",
              "      <td>212.3095</td>\n",
              "      <td>0.370</td>\n",
              "      <td>81.88</td>\n",
              "      <td>789.0</td>\n",
              "      <td>0</td>\n",
              "      <td>5620.0</td>\n",
              "      <td>0.95</td>\n",
              "      <td>1.00</td>\n",
              "      <td>0.35</td>\n",
              "      <td>[Fe/H]</td>\n",
              "      <td>4.47</td>\n",
              "      <td>16h10m24.50s</td>\n",
              "      <td>242.602101</td>\n",
              "      <td>+43d48m58.90s</td>\n",
              "      <td>43.816362</td>\n",
              "      <td>17.9323</td>\n",
              "      <td>6.61935</td>\n",
              "      <td>4.714</td>\n",
              "      <td>6.38300</td>\n",
              "    </tr>\n",
              "    <tr>\n",
              "      <th>10</th>\n",
              "      <td>14 Her b</td>\n",
              "      <td>14 Her</td>\n",
              "      <td>0</td>\n",
              "      <td>1</td>\n",
              "      <td>1</td>\n",
              "      <td>11.023475</td>\n",
              "      <td>2.730</td>\n",
              "      <td>0.217</td>\n",
              "      <td>212.3095</td>\n",
              "      <td>0.357</td>\n",
              "      <td>81.88</td>\n",
              "      <td>789.0</td>\n",
              "      <td>0</td>\n",
              "      <td>5620.0</td>\n",
              "      <td>0.95</td>\n",
              "      <td>0.90</td>\n",
              "      <td>-0.02</td>\n",
              "      <td>[Fe/H]</td>\n",
              "      <td>4.47</td>\n",
              "      <td>16h10m24.50s</td>\n",
              "      <td>242.602101</td>\n",
              "      <td>+43d48m58.90s</td>\n",
              "      <td>43.816362</td>\n",
              "      <td>17.9323</td>\n",
              "      <td>6.61935</td>\n",
              "      <td>4.714</td>\n",
              "      <td>6.38300</td>\n",
              "    </tr>\n",
              "    <tr>\n",
              "      <th>11</th>\n",
              "      <td>14 Her b</td>\n",
              "      <td>14 Her</td>\n",
              "      <td>0</td>\n",
              "      <td>1</td>\n",
              "      <td>1</td>\n",
              "      <td>1766.000000</td>\n",
              "      <td>2.864</td>\n",
              "      <td>0.217</td>\n",
              "      <td>212.3095</td>\n",
              "      <td>0.359</td>\n",
              "      <td>81.88</td>\n",
              "      <td>789.0</td>\n",
              "      <td>0</td>\n",
              "      <td>5280.0</td>\n",
              "      <td>1.00</td>\n",
              "      <td>0.91</td>\n",
              "      <td>0.40</td>\n",
              "      <td>[M/H]</td>\n",
              "      <td>4.40</td>\n",
              "      <td>16h10m24.50s</td>\n",
              "      <td>242.602101</td>\n",
              "      <td>+43d48m58.90s</td>\n",
              "      <td>43.816362</td>\n",
              "      <td>17.9323</td>\n",
              "      <td>6.61935</td>\n",
              "      <td>4.714</td>\n",
              "      <td>6.38300</td>\n",
              "    </tr>\n",
              "    <tr>\n",
              "      <th>12</th>\n",
              "      <td>14 Her b</td>\n",
              "      <td>14 Her</td>\n",
              "      <td>1</td>\n",
              "      <td>1</td>\n",
              "      <td>1</td>\n",
              "      <td>1773.400020</td>\n",
              "      <td>2.930</td>\n",
              "      <td>0.217</td>\n",
              "      <td>212.3095</td>\n",
              "      <td>0.370</td>\n",
              "      <td>81.88</td>\n",
              "      <td>789.0</td>\n",
              "      <td>0</td>\n",
              "      <td>5338.0</td>\n",
              "      <td>0.93</td>\n",
              "      <td>0.90</td>\n",
              "      <td>0.41</td>\n",
              "      <td>[Fe/H]</td>\n",
              "      <td>4.45</td>\n",
              "      <td>16h10m24.50s</td>\n",
              "      <td>242.602101</td>\n",
              "      <td>+43d48m58.90s</td>\n",
              "      <td>43.816362</td>\n",
              "      <td>17.9323</td>\n",
              "      <td>6.61935</td>\n",
              "      <td>4.714</td>\n",
              "      <td>6.38300</td>\n",
              "    </tr>\n",
              "    <tr>\n",
              "      <th>13</th>\n",
              "      <td>16 Cyg B b</td>\n",
              "      <td>16 Cyg B</td>\n",
              "      <td>0</td>\n",
              "      <td>3</td>\n",
              "      <td>1</td>\n",
              "      <td>800.800000</td>\n",
              "      <td>1.600</td>\n",
              "      <td>0.217</td>\n",
              "      <td>212.3095</td>\n",
              "      <td>0.634</td>\n",
              "      <td>81.88</td>\n",
              "      <td>789.0</td>\n",
              "      <td>0</td>\n",
              "      <td>5760.0</td>\n",
              "      <td>0.95</td>\n",
              "      <td>1.00</td>\n",
              "      <td>0.05</td>\n",
              "      <td>[Fe/H]</td>\n",
              "      <td>4.35</td>\n",
              "      <td>19h41m51.75s</td>\n",
              "      <td>295.465642</td>\n",
              "      <td>+50d31m00.57s</td>\n",
              "      <td>50.516824</td>\n",
              "      <td>21.1397</td>\n",
              "      <td>6.21500</td>\n",
              "      <td>4.651</td>\n",
              "      <td>6.06428</td>\n",
              "    </tr>\n",
              "  </tbody>\n",
              "</table>\n",
              "</div>"
            ],
            "text/plain": [
              "   Planet Name Host Name  ...  Ks (2MASS) Magnitude  Gaia Magnitude\n",
              "0     11 Com b    11 Com  ...                 2.282         4.44038\n",
              "1     11 Com b    11 Com  ...                 2.282         4.44038\n",
              "2     11 UMi b    11 UMi  ...                 1.939         4.56216\n",
              "3     11 UMi b    11 UMi  ...                 1.939         4.56216\n",
              "4     11 UMi b    11 UMi  ...                 1.939         4.56216\n",
              "5     14 And b    14 And  ...                 2.331         4.91781\n",
              "6     14 And b    14 And  ...                 2.331         4.91781\n",
              "7     14 Her b    14 Her  ...                 4.714         6.38300\n",
              "8     14 Her b    14 Her  ...                 4.714         6.38300\n",
              "9     14 Her b    14 Her  ...                 4.714         6.38300\n",
              "10    14 Her b    14 Her  ...                 4.714         6.38300\n",
              "11    14 Her b    14 Her  ...                 4.714         6.38300\n",
              "12    14 Her b    14 Her  ...                 4.714         6.38300\n",
              "13  16 Cyg B b  16 Cyg B  ...                 4.651         6.06428\n",
              "\n",
              "[14 rows x 27 columns]"
            ]
          },
          "metadata": {
            "tags": []
          },
          "execution_count": 19
        }
      ]
    },
    {
      "cell_type": "markdown",
      "metadata": {
        "id": "cJgsbELMaZhn"
      },
      "source": [
        "\n",
        "So we are going to use three criteria to determine the possibility as to whether our planets are habitable or not:\n",
        "\n",
        "$$0.95 \\ \\leq x \\leq 1.67 \\: \\text{AU (semi-major axis)}$$$$0.3 \\ \\leq x \\leq 10.0 \\: \\text{M}_\\oplus \\: \\text{(Planet Mass [Earth Mass])}$$\n",
        "$$0.78 \\ \\leq x \\leq 1.04 \\: \\text{M}_\\odot \\: \\text{Stellar Mass [Solar Mass]}$$\n",
        "\n",
        "For simple life:\n",
        "\n",
        "$$0.57 \\ \\leq x \\leq 1.64 \\: \\text{M}_\\odot \\: \\text{Stellar Mass [Solar Mass]}$$"
      ]
    },
    {
      "cell_type": "code",
      "metadata": {
        "id": "OtczWKw7aSzu"
      },
      "source": [
        "# Applying conditions to generate habitable column. Using 'np.where'.\n",
        "data4['habitable'] = np.where((data4['Orbit Semi-Major Axis [AU]'].round(2) >= 0.95) &\n",
        "                              (data4['Orbit Semi-Major Axis [AU]'].round(2) <= 1.65) &\n",
        "                              (data4['Planet Mass [Earth Mass]'].round(2) >= 0.30) &\n",
        "                              (data4['Planet Mass [Earth Mass]'].round(2) <= 10.00) &\n",
        "                              (data4['Stellar Mass [Solar mass]'].round(2) >= 0.78) &\n",
        "                              (data4['Stellar Mass [Solar mass]'].round(2) <= 1.04),\n",
        "                              'Yes',\n",
        "                              'No'\n",
        "                             )"
      ],
      "execution_count": null,
      "outputs": []
    },
    {
      "cell_type": "code",
      "metadata": {
        "colab": {
          "base_uri": "https://localhost:8080/"
        },
        "id": "HimtaVQLbQqC",
        "outputId": "0b11120a-b661-4383-8707-ef0f18038900"
      },
      "source": [
        "#We are left with one solitary planet\n",
        "data4['habitable'].value_counts()"
      ],
      "execution_count": null,
      "outputs": [
        {
          "output_type": "execute_result",
          "data": {
            "text/plain": [
              "No     26193\n",
              "Yes        1\n",
              "Name: habitable, dtype: int64"
            ]
          },
          "metadata": {
            "tags": []
          },
          "execution_count": 21
        }
      ]
    },
    {
      "cell_type": "code",
      "metadata": {
        "colab": {
          "base_uri": "https://localhost:8080/",
          "height": 181
        },
        "id": "fCz80re4bS3l",
        "outputId": "66f2536b-477e-4ede-b2ab-e5aeb5de249e"
      },
      "source": [
        "#The planet is 'Kepler-47 c'\n",
        "data4[data4['habitable'] == 'Yes']"
      ],
      "execution_count": null,
      "outputs": [
        {
          "output_type": "execute_result",
          "data": {
            "text/html": [
              "<div>\n",
              "<style scoped>\n",
              "    .dataframe tbody tr th:only-of-type {\n",
              "        vertical-align: middle;\n",
              "    }\n",
              "\n",
              "    .dataframe tbody tr th {\n",
              "        vertical-align: top;\n",
              "    }\n",
              "\n",
              "    .dataframe thead th {\n",
              "        text-align: right;\n",
              "    }\n",
              "</style>\n",
              "<table border=\"1\" class=\"dataframe\">\n",
              "  <thead>\n",
              "    <tr style=\"text-align: right;\">\n",
              "      <th></th>\n",
              "      <th>Planet Name</th>\n",
              "      <th>Host Name</th>\n",
              "      <th>Default Parameter Set</th>\n",
              "      <th>Number of Stars</th>\n",
              "      <th>Number of Planets</th>\n",
              "      <th>Orbital Period [days]</th>\n",
              "      <th>Orbit Semi-Major Axis [AU]</th>\n",
              "      <th>Planet Radius [Jupiter Radius]</th>\n",
              "      <th>Planet Mass [Earth Mass]</th>\n",
              "      <th>Eccentricity</th>\n",
              "      <th>Insolation Flux [Earth Flux]</th>\n",
              "      <th>Equilibrium Temperature [K]</th>\n",
              "      <th>Data show Transit Timing Variations</th>\n",
              "      <th>Stellar Effective Temperature [K]</th>\n",
              "      <th>Stellar Radius [Solar Radius]</th>\n",
              "      <th>Stellar Mass [Solar mass]</th>\n",
              "      <th>Stellar Metallicity [dex]</th>\n",
              "      <th>Stellar Metallicity Ratio</th>\n",
              "      <th>Stellar Surface Gravity [log10(cm/s**2)]</th>\n",
              "      <th>RA [sexagesimal]</th>\n",
              "      <th>RA [decimal]</th>\n",
              "      <th>Dec [sexagesimal]</th>\n",
              "      <th>Dec [decimal]</th>\n",
              "      <th>Distance [pc]</th>\n",
              "      <th>V (Johnson) Magnitude</th>\n",
              "      <th>Ks (2MASS) Magnitude</th>\n",
              "      <th>Gaia Magnitude</th>\n",
              "      <th>habitable</th>\n",
              "    </tr>\n",
              "  </thead>\n",
              "  <tbody>\n",
              "    <tr>\n",
              "      <th>18873</th>\n",
              "      <td>Kepler-47 c</td>\n",
              "      <td>Kepler-47</td>\n",
              "      <td>1</td>\n",
              "      <td>2</td>\n",
              "      <td>4</td>\n",
              "      <td>303.227</td>\n",
              "      <td>0.9638</td>\n",
              "      <td>0.415</td>\n",
              "      <td>3.17</td>\n",
              "      <td>0.044</td>\n",
              "      <td>81.88</td>\n",
              "      <td>789.0</td>\n",
              "      <td>1</td>\n",
              "      <td>5620.0</td>\n",
              "      <td>0.94</td>\n",
              "      <td>0.96</td>\n",
              "      <td>-0.02</td>\n",
              "      <td>[Fe/H]</td>\n",
              "      <td>4.47</td>\n",
              "      <td>19h41m11.49s</td>\n",
              "      <td>295.297888</td>\n",
              "      <td>+46d55m13.55s</td>\n",
              "      <td>46.92043</td>\n",
              "      <td>1025.02</td>\n",
              "      <td>15.31</td>\n",
              "      <td>13.535</td>\n",
              "      <td>15.1626</td>\n",
              "      <td>Yes</td>\n",
              "    </tr>\n",
              "  </tbody>\n",
              "</table>\n",
              "</div>"
            ],
            "text/plain": [
              "       Planet Name  Host Name  ...  Gaia Magnitude  habitable\n",
              "18873  Kepler-47 c  Kepler-47  ...         15.1626        Yes\n",
              "\n",
              "[1 rows x 28 columns]"
            ]
          },
          "metadata": {
            "tags": []
          },
          "execution_count": 22
        }
      ]
    },
    {
      "cell_type": "code",
      "metadata": {
        "colab": {
          "base_uri": "https://localhost:8080/",
          "height": 750
        },
        "id": "wMsKH2ntbpCd",
        "outputId": "988eba8e-0535-4276-85f8-726bdd807d66"
      },
      "source": [
        "#Create plots and sizes\n",
        "fig = plt.figure(figsize=(8,12))\n",
        "plt.subplots_adjust(wspace=0.5, hspace=0.5)\n",
        "\n",
        "#Create subplots\n",
        "ax1 = fig.add_subplot(3, 1, 1)\n",
        "ax2 = fig.add_subplot(3, 1, 2)\n",
        "ax3 = fig.add_subplot(3, 1, 3)\n",
        "\n",
        "#Data and ranges of habitability\n",
        "ax1.hist(x=data4['Orbit Semi-Major Axis [AU]'],range=[0.95,1.66], color='cornflowerblue', edgecolor='k')\n",
        "ax2.hist(x=data4['Planet Mass [Earth Mass]'], range=[0.30,10.00], color='paleturquoise', edgecolor='k')\n",
        "ax3.hist(x=data4['Stellar Mass [Solar mass]'], range=[0.57,1.64], color='lemonchiffon', edgecolor='k')\n",
        "\n",
        "#Plot annotation\n",
        "ax1.set_title('Orbit Semi-Major Axis [AU]')\n",
        "ax1.set_xlabel('Habitable Range [AU]', fontsize=12)\n",
        "ax1.set_ylabel('Planets [num]', fontsize=12)\n",
        "\n",
        "ax2.set_title('Planet Mass [Earth Mass]')\n",
        "ax2.set_xlabel('Habitable Range [Earth Mass]', fontsize=12)\n",
        "ax2.set_ylabel('Planets [num]', fontsize=12)\n",
        "\n",
        "ax3.set_title('Stellar Mass [Solar Mass]')\n",
        "ax3.set_xlabel('Habitable Range [Solar Mass]', fontsize=12)\n",
        "ax3.set_ylabel('Planets [num]', fontsize=12)"
      ],
      "execution_count": null,
      "outputs": [
        {
          "output_type": "execute_result",
          "data": {
            "text/plain": [
              "Text(0, 0.5, 'Planets [num]')"
            ]
          },
          "metadata": {
            "tags": []
          },
          "execution_count": 23
        },
        {
          "output_type": "display_data",
          "data": {
            "image/png": "[encoded data removed]",
            "text/plain": [
              "<Figure size 576x864 with 3 Axes>"
            ]
          },
          "metadata": {
            "tags": [],
            "needs_background": "light"
          }
        }
      ]
    },
    {
      "cell_type": "markdown",
      "metadata": {
        "id": "FYZLqWvNcHDa"
      },
      "source": [
        "\n",
        "As we can see if we take a look at all three of our habitable ranges there are a significant number of planets that exist within each of the criteria, but from the data only one planet that exists within all three. So, can we broaden out our search in our search for life and habitability on others planets?\n",
        "\n",
        "Let's go back to our original criteria and try again for simple life:\n",
        "\n",
        "$$0.57 \\ \\leq x \\leq 1.64 \\: \\text{M}_\\odot \\: \\text{Stellar Mass [Solar Mass]}$$"
      ]
    },
    {
      "cell_type": "code",
      "metadata": {
        "id": "hOsozRE5d8vN"
      },
      "source": [
        "#Check to see if new planets in the expanded parameters\n",
        "data4['habitable'] = np.where((data4['Orbit Semi-Major Axis [AU]'].round(2) >= 0.95) &\n",
        "                              (data4['Orbit Semi-Major Axis [AU]'].round(2) <= 1.65) &\n",
        "                              (data4['Planet Mass [Earth Mass]'].round(2) >= 0.30) &\n",
        "                              (data4['Planet Mass [Earth Mass]'].round(2) <= 10.00) &\n",
        "                              (data4['Stellar Mass [Solar mass]'].round(2) >= 0.57) &\n",
        "                              (data4['Stellar Mass [Solar mass]'].round(2) <= 1.64),\n",
        "                              'Yes',\n",
        "                              'No')"
      ],
      "execution_count": null,
      "outputs": []
    },
    {
      "cell_type": "code",
      "metadata": {
        "id": "nWkUkF8weCJV",
        "colab": {
          "base_uri": "https://localhost:8080/"
        },
        "outputId": "f29e547d-6cb2-438f-f409-ef74fc21c428"
      },
      "source": [
        "#We are still left with just one solitary planet\n",
        "data4['habitable'].value_counts()"
      ],
      "execution_count": null,
      "outputs": [
        {
          "output_type": "execute_result",
          "data": {
            "text/plain": [
              "No     26193\n",
              "Yes        1\n",
              "Name: habitable, dtype: int64"
            ]
          },
          "metadata": {
            "tags": []
          },
          "execution_count": 31
        }
      ]
    },
    {
      "cell_type": "code",
      "metadata": {
        "id": "BTNQhsUZcGRp"
      },
      "source": [
        "#Select test data, I have removed a lot of the non-float values.\n",
        "all_X = data4.drop(columns=['habitable','Planet Name','Host Name', 'Stellar Metallicity Ratio', 'RA [sexagesimal]', 'Dec [sexagesimal]' ])\n",
        "all_y = data4['habitable']\n",
        "\n",
        "#apply train, test, split\n",
        "X_train, X_test, y_train, y_test = train_test_split(all_X, all_y, test_size=0.33)"
      ],
      "execution_count": null,
      "outputs": []
    },
    {
      "cell_type": "code",
      "metadata": {
        "colab": {
          "base_uri": "https://localhost:8080/"
        },
        "id": "K7hyjsGgb359",
        "outputId": "6cd8bac4-eec0-43b6-8d3d-a215dbb38ff5"
      },
      "source": [
        "#Naive Bayes Gaussian Model\n",
        "gnb = GaussianNB()\n",
        "gnb.fit(X_train, y_train)\n",
        "\n",
        "#model prediction\n",
        "y_pred = gnb.predict(X_test)\n",
        "print(\"Number of mislabeled points out of a total %d points : %d\"\n",
        "      % (X_test.shape[0], (y_test != y_pred).sum()))\n",
        "\n",
        "print(\"Score:\", gnb.score(X_train, y_train))"
      ],
      "execution_count": null,
      "outputs": [
        {
          "output_type": "stream",
          "text": [
            "Number of mislabeled points out of a total 8645 points : 0\n",
            "Score: 1.0\n"
          ],
          "name": "stdout"
        }
      ]
    },
    {
      "cell_type": "code",
      "metadata": {
        "colab": {
          "base_uri": "https://localhost:8080/"
        },
        "id": "x2Lf9cVJc5Mj",
        "outputId": "dd51b9ad-3d8e-4be3-a7cb-b557c2295283"
      },
      "source": [
        "#Decision Tree\n",
        "decision_tree = DecisionTreeClassifier(max_depth=2)\n",
        "decision_tree.fit(X_train, y_train)\n",
        "\n",
        "#model prediction\n",
        "y_pred = decision_tree.predict(X_test)\n",
        "print(\"Number of mislabeled points out of a total %d points : %d\"\n",
        "      % (X_test.shape[0], (y_test != y_pred).sum()))\n",
        "\n",
        "print(\"Score:\", decision_tree.score(X_train, y_train))"
      ],
      "execution_count": null,
      "outputs": [
        {
          "output_type": "stream",
          "text": [
            "Number of mislabeled points out of a total 8645 points : 0\n",
            "Score: 1.0\n"
          ],
          "name": "stdout"
        }
      ]
    },
    {
      "cell_type": "code",
      "metadata": {
        "colab": {
          "base_uri": "https://localhost:8080/"
        },
        "id": "ZkPtqpplc8_l",
        "outputId": "7317d54f-d37e-4bbc-965e-5e534e947528"
      },
      "source": [
        "#Support Vector Machine\n",
        "svclassifier = SVC(kernel='linear')\n",
        "svclassifier.fit(X_train, y_train)\n",
        "\n",
        "#model prediction\n",
        "y_pred = decision_tree.predict(X_test)\n",
        "\n",
        "print(\"Number of mislabeled points out of a total %d points : %d\"\n",
        "      % (X_test.shape[0], (y_test != y_pred).sum()))\n",
        "\n",
        "print(\"Score:\", svclassifier.score(X_train, y_train))"
      ],
      "execution_count": null,
      "outputs": [
        {
          "output_type": "stream",
          "text": [
            "Number of mislabeled points out of a total 8645 points : 0\n",
            "Score: 0.9999430166961081\n"
          ],
          "name": "stdout"
        }
      ]
    },
    {
      "cell_type": "code",
      "metadata": {
        "colab": {
          "base_uri": "https://localhost:8080/"
        },
        "id": "EjdNIBtYc_6L",
        "outputId": "123a47ab-f70b-4d1b-8c55-bd5f5e689def"
      },
      "source": [
        "#Models\n",
        "a = gnb.fit(X_train, y_train)\n",
        "b = decision_tree.fit(X_train, y_train)\n",
        "c = svclassifier.fit(X_train, y_train)\n",
        "\n",
        "ml_models = [a,b,c]\n",
        "\n",
        "#Model scores, and cross-validation.\n",
        "for model in ml_models:\n",
        "    scores = cross_val_score(model, X_train, y_train, cv=5)\n",
        "    print(\"Scores:\", scores, '\\n')\n",
        "    print(\"Mean:\", scores.mean())\n",
        "    print(\"Standard Deviation:\", scores.std(), '\\n')"
      ],
      "execution_count": null,
      "outputs": [
        {
          "output_type": "stream",
          "text": [
            "/usr/local/lib/python3.7/dist-packages/sklearn/model_selection/_split.py:667: UserWarning: The least populated class in y has only 1 members, which is less than n_splits=5.\n",
            "  % (min_groups, self.n_splits)), UserWarning)\n"
          ],
          "name": "stderr"
        },
        {
          "output_type": "stream",
          "text": [
            "Scores: [1.        1.        1.        0.9997151 1.       ] \n",
            "\n",
            "Mean: 0.99994301994302\n",
            "Standard Deviation: 0.00011396011396009875 \n",
            "\n"
          ],
          "name": "stdout"
        },
        {
          "output_type": "stream",
          "text": [
            "/usr/local/lib/python3.7/dist-packages/sklearn/model_selection/_split.py:667: UserWarning: The least populated class in y has only 1 members, which is less than n_splits=5.\n",
            "  % (min_groups, self.n_splits)), UserWarning)\n"
          ],
          "name": "stderr"
        },
        {
          "output_type": "stream",
          "text": [
            "Scores: [1.        1.        1.        0.9997151 1.       ] \n",
            "\n",
            "Mean: 0.99994301994302\n",
            "Standard Deviation: 0.00011396011396009875 \n",
            "\n"
          ],
          "name": "stdout"
        },
        {
          "output_type": "stream",
          "text": [
            "/usr/local/lib/python3.7/dist-packages/sklearn/model_selection/_split.py:667: UserWarning: The least populated class in y has only 1 members, which is less than n_splits=5.\n",
            "  % (min_groups, self.n_splits)), UserWarning)\n",
            "/usr/local/lib/python3.7/dist-packages/sklearn/model_selection/_validation.py:536: FitFailedWarning: Estimator fit failed. The score on this train-test partition for these parameters will be set to nan. Details: \n",
            "ValueError: The number of classes has to be greater than one; got 1 class\n",
            "\n",
            "  FitFailedWarning)\n"
          ],
          "name": "stderr"
        },
        {
          "output_type": "stream",
          "text": [
            "Scores: [0.9994302  1.         1.                nan 0.99914506] \n",
            "\n",
            "Mean: nan\n",
            "Standard Deviation: nan \n",
            "\n"
          ],
          "name": "stdout"
        }
      ]
    },
    {
      "cell_type": "code",
      "metadata": {
        "id": "xLklCrIndH6Q"
      },
      "source": [],
      "execution_count": null,
      "outputs": []
    }
  ]
}